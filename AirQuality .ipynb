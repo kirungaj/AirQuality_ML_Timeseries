{
 "cells": [
  {
   "cell_type": "code",
   "execution_count": 1,
   "id": "ecaefca7",
   "metadata": {},
   "outputs": [],
   "source": [
    "import pandas as pd \n",
    "import numpy as np \n",
    "import matplotlib.pyplot as plt \n",
    "import seaborn as sns "
   ]
  },
  {
   "cell_type": "code",
   "execution_count": 2,
   "id": "aca3ac41",
   "metadata": {},
   "outputs": [],
   "source": [
    "from pathlib import Path "
   ]
  },
  {
   "cell_type": "code",
   "execution_count": 3,
   "id": "0fdb0682",
   "metadata": {},
   "outputs": [],
   "source": [
    "workingdr = Path.cwd()"
   ]
  },
  {
   "cell_type": "code",
   "execution_count": 6,
   "id": "402d6ca3",
   "metadata": {},
   "outputs": [],
   "source": [
    "file_path = workingdr.joinpath('airquality-dataset', 'airquality-dataset', 'sample_dataset.csv')"
   ]
  },
  {
   "cell_type": "code",
   "execution_count": 7,
   "id": "4e6d8022",
   "metadata": {},
   "outputs": [],
   "source": [
    "assert file_path.exists()"
   ]
  },
  {
   "cell_type": "code",
   "execution_count": 10,
   "id": "edf4cea9",
   "metadata": {},
   "outputs": [
    {
     "name": "stderr",
     "output_type": "stream",
     "text": [
      "C:\\ProgramData\\Anaconda3\\lib\\site-packages\\numpy\\lib\\arraysetops.py:583: FutureWarning: elementwise comparison failed; returning scalar instead, but in the future will perform elementwise comparison\n",
      "  mask |= (ar1 == a)\n"
     ]
    }
   ],
   "source": [
    "df_airqo = pd.read_csv(file_path, index_col= 0) \n",
    "#Use the first column  as index"
   ]
  },
  {
   "cell_type": "code",
   "execution_count": 11,
   "id": "208c06fe",
   "metadata": {},
   "outputs": [
    {
     "data": {
      "text/html": [
       "<div>\n",
       "<style scoped>\n",
       "    .dataframe tbody tr th:only-of-type {\n",
       "        vertical-align: middle;\n",
       "    }\n",
       "\n",
       "    .dataframe tbody tr th {\n",
       "        vertical-align: top;\n",
       "    }\n",
       "\n",
       "    .dataframe thead th {\n",
       "        text-align: right;\n",
       "    }\n",
       "</style>\n",
       "<table border=\"1\" class=\"dataframe\">\n",
       "  <thead>\n",
       "    <tr style=\"text-align: right;\">\n",
       "      <th></th>\n",
       "      <th>channel_id</th>\n",
       "      <th>pm2_5</th>\n",
       "      <th>pm10</th>\n",
       "      <th>s2_pm2_5</th>\n",
       "      <th>s2_pm10</th>\n",
       "      <th>Site</th>\n",
       "      <th>TimeStamp</th>\n",
       "    </tr>\n",
       "  </thead>\n",
       "  <tbody>\n",
       "    <tr>\n",
       "      <th>0</th>\n",
       "      <td>912223</td>\n",
       "      <td>37.02</td>\n",
       "      <td>45.23</td>\n",
       "      <td>34.07</td>\n",
       "      <td>39.82</td>\n",
       "      <td>Banda, Kampala</td>\n",
       "      <td>2019-11-27 13:24:45</td>\n",
       "    </tr>\n",
       "    <tr>\n",
       "      <th>1</th>\n",
       "      <td>912223</td>\n",
       "      <td>37.02</td>\n",
       "      <td>45.23</td>\n",
       "      <td>34.07</td>\n",
       "      <td>39.82</td>\n",
       "      <td>Banda, Kampala</td>\n",
       "      <td>2019-11-27 13:24:45</td>\n",
       "    </tr>\n",
       "    <tr>\n",
       "      <th>2</th>\n",
       "      <td>912223</td>\n",
       "      <td>41.70</td>\n",
       "      <td>50.70</td>\n",
       "      <td>38.55</td>\n",
       "      <td>47.43</td>\n",
       "      <td>Banda, Kampala</td>\n",
       "      <td>2019-11-27 13:26:13</td>\n",
       "    </tr>\n",
       "    <tr>\n",
       "      <th>3</th>\n",
       "      <td>912223</td>\n",
       "      <td>41.70</td>\n",
       "      <td>50.70</td>\n",
       "      <td>38.55</td>\n",
       "      <td>47.43</td>\n",
       "      <td>Banda, Kampala</td>\n",
       "      <td>2019-11-27 13:26:13</td>\n",
       "    </tr>\n",
       "    <tr>\n",
       "      <th>4</th>\n",
       "      <td>912223</td>\n",
       "      <td>42.15</td>\n",
       "      <td>52.87</td>\n",
       "      <td>40.55</td>\n",
       "      <td>49.95</td>\n",
       "      <td>Banda, Kampala</td>\n",
       "      <td>2019-11-27 13:30:53</td>\n",
       "    </tr>\n",
       "  </tbody>\n",
       "</table>\n",
       "</div>"
      ],
      "text/plain": [
       "   channel_id  pm2_5   pm10  s2_pm2_5  s2_pm10            Site  \\\n",
       "0      912223  37.02  45.23     34.07    39.82  Banda, Kampala   \n",
       "1      912223  37.02  45.23     34.07    39.82  Banda, Kampala   \n",
       "2      912223  41.70  50.70     38.55    47.43  Banda, Kampala   \n",
       "3      912223  41.70  50.70     38.55    47.43  Banda, Kampala   \n",
       "4      912223  42.15  52.87     40.55    49.95  Banda, Kampala   \n",
       "\n",
       "             TimeStamp  \n",
       "0  2019-11-27 13:24:45  \n",
       "1  2019-11-27 13:24:45  \n",
       "2  2019-11-27 13:26:13  \n",
       "3  2019-11-27 13:26:13  \n",
       "4  2019-11-27 13:30:53  "
      ]
     },
     "execution_count": 11,
     "metadata": {},
     "output_type": "execute_result"
    }
   ],
   "source": [
    "df_airqo.head()"
   ]
  },
  {
   "cell_type": "code",
   "execution_count": 12,
   "id": "a7e99377",
   "metadata": {},
   "outputs": [
    {
     "name": "stdout",
     "output_type": "stream",
     "text": [
      "<class 'pandas.core.frame.DataFrame'>\n",
      "Int64Index: 23567841 entries, 0 to 25976646\n",
      "Data columns (total 7 columns):\n",
      " #   Column      Dtype  \n",
      "---  ------      -----  \n",
      " 0   channel_id  int64  \n",
      " 1   pm2_5       float64\n",
      " 2   pm10        float64\n",
      " 3   s2_pm2_5    float64\n",
      " 4   s2_pm10     float64\n",
      " 5   Site        object \n",
      " 6   TimeStamp   object \n",
      "dtypes: float64(4), int64(1), object(2)\n",
      "memory usage: 1.4+ GB\n"
     ]
    }
   ],
   "source": [
    "df_airqo.info()"
   ]
  },
  {
   "cell_type": "code",
   "execution_count": 13,
   "id": "9de072f2",
   "metadata": {},
   "outputs": [
    {
     "data": {
      "text/html": [
       "<div>\n",
       "<style scoped>\n",
       "    .dataframe tbody tr th:only-of-type {\n",
       "        vertical-align: middle;\n",
       "    }\n",
       "\n",
       "    .dataframe tbody tr th {\n",
       "        vertical-align: top;\n",
       "    }\n",
       "\n",
       "    .dataframe thead th {\n",
       "        text-align: right;\n",
       "    }\n",
       "</style>\n",
       "<table border=\"1\" class=\"dataframe\">\n",
       "  <thead>\n",
       "    <tr style=\"text-align: right;\">\n",
       "      <th></th>\n",
       "      <th>channel_id</th>\n",
       "      <th>pm2_5</th>\n",
       "      <th>pm10</th>\n",
       "      <th>s2_pm2_5</th>\n",
       "      <th>s2_pm10</th>\n",
       "    </tr>\n",
       "  </thead>\n",
       "  <tbody>\n",
       "    <tr>\n",
       "      <th>count</th>\n",
       "      <td>2.356784e+07</td>\n",
       "      <td>2.356487e+07</td>\n",
       "      <td>2.356487e+07</td>\n",
       "      <td>2.356487e+07</td>\n",
       "      <td>2.356487e+07</td>\n",
       "    </tr>\n",
       "    <tr>\n",
       "      <th>mean</th>\n",
       "      <td>7.686704e+05</td>\n",
       "      <td>5.884781e+01</td>\n",
       "      <td>6.622911e+01</td>\n",
       "      <td>7.262280e+01</td>\n",
       "      <td>8.005443e+01</td>\n",
       "    </tr>\n",
       "    <tr>\n",
       "      <th>std</th>\n",
       "      <td>8.618918e+04</td>\n",
       "      <td>1.661815e+02</td>\n",
       "      <td>1.680471e+02</td>\n",
       "      <td>2.510575e+02</td>\n",
       "      <td>2.518958e+02</td>\n",
       "    </tr>\n",
       "    <tr>\n",
       "      <th>min</th>\n",
       "      <td>6.725280e+05</td>\n",
       "      <td>0.000000e+00</td>\n",
       "      <td>0.000000e+00</td>\n",
       "      <td>0.000000e+00</td>\n",
       "      <td>0.000000e+00</td>\n",
       "    </tr>\n",
       "    <tr>\n",
       "      <th>25%</th>\n",
       "      <td>6.897520e+05</td>\n",
       "      <td>2.657000e+01</td>\n",
       "      <td>2.915000e+01</td>\n",
       "      <td>2.690000e+01</td>\n",
       "      <td>2.962000e+01</td>\n",
       "    </tr>\n",
       "    <tr>\n",
       "      <th>50%</th>\n",
       "      <td>7.372760e+05</td>\n",
       "      <td>4.065000e+01</td>\n",
       "      <td>4.978000e+01</td>\n",
       "      <td>4.112000e+01</td>\n",
       "      <td>5.057000e+01</td>\n",
       "    </tr>\n",
       "    <tr>\n",
       "      <th>75%</th>\n",
       "      <td>8.701400e+05</td>\n",
       "      <td>5.927000e+01</td>\n",
       "      <td>7.085000e+01</td>\n",
       "      <td>6.028000e+01</td>\n",
       "      <td>7.175000e+01</td>\n",
       "    </tr>\n",
       "    <tr>\n",
       "      <th>max</th>\n",
       "      <td>9.304270e+05</td>\n",
       "      <td>4.299700e+03</td>\n",
       "      <td>1.345277e+04</td>\n",
       "      <td>4.379600e+03</td>\n",
       "      <td>8.438070e+03</td>\n",
       "    </tr>\n",
       "  </tbody>\n",
       "</table>\n",
       "</div>"
      ],
      "text/plain": [
       "         channel_id         pm2_5          pm10      s2_pm2_5       s2_pm10\n",
       "count  2.356784e+07  2.356487e+07  2.356487e+07  2.356487e+07  2.356487e+07\n",
       "mean   7.686704e+05  5.884781e+01  6.622911e+01  7.262280e+01  8.005443e+01\n",
       "std    8.618918e+04  1.661815e+02  1.680471e+02  2.510575e+02  2.518958e+02\n",
       "min    6.725280e+05  0.000000e+00  0.000000e+00  0.000000e+00  0.000000e+00\n",
       "25%    6.897520e+05  2.657000e+01  2.915000e+01  2.690000e+01  2.962000e+01\n",
       "50%    7.372760e+05  4.065000e+01  4.978000e+01  4.112000e+01  5.057000e+01\n",
       "75%    8.701400e+05  5.927000e+01  7.085000e+01  6.028000e+01  7.175000e+01\n",
       "max    9.304270e+05  4.299700e+03  1.345277e+04  4.379600e+03  8.438070e+03"
      ]
     },
     "execution_count": 13,
     "metadata": {},
     "output_type": "execute_result"
    }
   ],
   "source": [
    "df_airqo.describe()"
   ]
  },
  {
   "cell_type": "code",
   "execution_count": 15,
   "id": "9d7a0a2b",
   "metadata": {},
   "outputs": [
    {
     "data": {
      "text/plain": [
       "channel_id       0\n",
       "pm2_5         2974\n",
       "pm10          2974\n",
       "s2_pm2_5      2973\n",
       "s2_pm10       2974\n",
       "Site             0\n",
       "TimeStamp        0\n",
       "dtype: int64"
      ]
     },
     "execution_count": 15,
     "metadata": {},
     "output_type": "execute_result"
    }
   ],
   "source": [
    "df_airqo.isna().sum()"
   ]
  },
  {
   "cell_type": "markdown",
   "id": "a83fabcf",
   "metadata": {},
   "source": [
    "Few null values in airquality columns compared to the large data set of 23 million rows. The channel id, site and timestamp columns have no nulls. "
   ]
  },
  {
   "cell_type": "markdown",
   "id": "49e5c596",
   "metadata": {},
   "source": [
    "Exploring the data "
   ]
  },
  {
   "cell_type": "code",
   "execution_count": 20,
   "id": "c57f34d1",
   "metadata": {},
   "outputs": [
    {
     "data": {
      "text/html": [
       "<div>\n",
       "<style scoped>\n",
       "    .dataframe tbody tr th:only-of-type {\n",
       "        vertical-align: middle;\n",
       "    }\n",
       "\n",
       "    .dataframe tbody tr th {\n",
       "        vertical-align: top;\n",
       "    }\n",
       "\n",
       "    .dataframe thead th {\n",
       "        text-align: right;\n",
       "    }\n",
       "</style>\n",
       "<table border=\"1\" class=\"dataframe\">\n",
       "  <thead>\n",
       "    <tr style=\"text-align: right;\">\n",
       "      <th></th>\n",
       "      <th>channel_id</th>\n",
       "      <th>pm2_5</th>\n",
       "      <th>pm10</th>\n",
       "      <th>s2_pm2_5</th>\n",
       "      <th>s2_pm10</th>\n",
       "      <th>Site</th>\n",
       "      <th>TimeStamp</th>\n",
       "    </tr>\n",
       "  </thead>\n",
       "  <tbody>\n",
       "    <tr>\n",
       "      <th>10909716</th>\n",
       "      <td>782718</td>\n",
       "      <td>NaN</td>\n",
       "      <td>NaN</td>\n",
       "      <td>117.97</td>\n",
       "      <td>126.17</td>\n",
       "      <td>Kasubi, Rubaga</td>\n",
       "      <td>2020-03-30 05:08:00</td>\n",
       "    </tr>\n",
       "  </tbody>\n",
       "</table>\n",
       "</div>"
      ],
      "text/plain": [
       "          channel_id  pm2_5  pm10  s2_pm2_5  s2_pm10            Site  \\\n",
       "10909716      782718    NaN   NaN    117.97   126.17  Kasubi, Rubaga   \n",
       "\n",
       "                    TimeStamp  \n",
       "10909716  2020-03-30 05:08:00  "
      ]
     },
     "execution_count": 20,
     "metadata": {},
     "output_type": "execute_result"
    }
   ],
   "source": [
    "df_airqo.loc[df_airqo['pm10'].isnull() & ~df_airqo['s2_pm10'].isnull()]"
   ]
  },
  {
   "cell_type": "markdown",
   "id": "a0e48e57",
   "metadata": {},
   "source": [
    "Only one column with null values for sensor one but with values for sensor 2 "
   ]
  },
  {
   "cell_type": "code",
   "execution_count": 22,
   "id": "0c5aa71b",
   "metadata": {},
   "outputs": [
    {
     "data": {
      "text/plain": [
       "array(['Butabika, Nakawa', 'Kasubi, Rubaga', 'Kisanga, Kasese'],\n",
       "      dtype=object)"
      ]
     },
     "execution_count": 22,
     "metadata": {},
     "output_type": "execute_result"
    }
   ],
   "source": [
    "df_airqo.loc[df_airqo['pm10'].isnull()]['Site'].unique()"
   ]
  },
  {
   "cell_type": "code",
   "execution_count": 23,
   "id": "4b987559",
   "metadata": {},
   "outputs": [
    {
     "data": {
      "text/plain": [
       "array(['Banda, Kampala', 'Bugana, Namayingo', 'Bugolobi, Nakawa',\n",
       "       'Bukikali,Lwaso Mbale', 'Bukoto I, Kawempe',\n",
       "       'Buloli North, Bududa', 'Bumurwa, Namisindwa', 'Busabala, Wakiso',\n",
       "       'Busembatya, Iganga', 'Butabika, Nakawa',\n",
       "       'Bweyogerere, Kira Municipality', 'Bwole Ward, Bugiri',\n",
       "       'Central Division, Tororo', 'Civic Centre, Kampala Central',\n",
       "       'Ggulu Ward, Mukono', 'Jinja Main Street, Jinja',\n",
       "       'Kalerwe, Kawempe', 'Kasenge, Wakiso', 'Kasharara, Rubirizi',\n",
       "       'Kasubi, Rubaga', 'Kisanga, Kasese', 'Kiwatule, Nakawa',\n",
       "       'Kyaliwajala, Kira Municipality', 'Kyanja, Nakawa',\n",
       "       'Kyebando, Kawempe', 'Lukuli, Makindye', 'Luwafu, Makindye',\n",
       "       'Makindye, Lukuli Makindye', 'Masaba, Mbale Industrial division',\n",
       "       'Mbalwa, Kira Municipality', 'Mbuya II, Nakawa',\n",
       "       'Mutundwe, Makindye Ssabagabo', 'Naguru II, Nakawa',\n",
       "       'Najera, Kira Municipality', 'Nansana east ward, Wakiso',\n",
       "       'Nansana west ward, Wakiso', 'Nantabulirwa ward, Mukono',\n",
       "       'Nkaatu, Iganga', 'Nyahuka, Bundibugyo', 'Rubaga, Kampala',\n",
       "       'Rwengoma, Kabarole', 'Wobulenzi west, Luwero'], dtype=object)"
      ]
     },
     "execution_count": 23,
     "metadata": {},
     "output_type": "execute_result"
    }
   ],
   "source": [
    "df_airqo['Site'].unique()"
   ]
  },
  {
   "cell_type": "markdown",
   "id": "59288ffd",
   "metadata": {},
   "source": [
    "Missing values for airquality for 6 sites \n",
    "Missing values can be filled with; \n",
    "1. Average of each site \n",
    "2. Average of each site within that day or within that hour \n",
    "3. Average per channel \n",
    "4. Drop them as a lazy way "
   ]
  },
  {
   "cell_type": "code",
   "execution_count": 26,
   "id": "d8c7bd83",
   "metadata": {},
   "outputs": [],
   "source": [
    "df_airqo['TimeStamp'] = pd.to_datetime(df_airqo['TimeStamp'])"
   ]
  },
  {
   "cell_type": "code",
   "execution_count": 33,
   "id": "c3f9b937",
   "metadata": {},
   "outputs": [],
   "source": [
    "#df_airqo.groupby(['Site', pd.Grouper(key=\"TimeStamp\", freq=\"1H\")]).agg(np.nanmean)\n",
    "df_site_hourly_avg= df_airqo.groupby(['Site', df_airqo['TimeStamp'].dt.hour]).agg(np.nanmean)"
   ]
  },
  {
   "cell_type": "code",
   "execution_count": 29,
   "id": "4d93a35d",
   "metadata": {},
   "outputs": [],
   "source": [
    "df_airqo['TimeStampHour']= df_airqo['TimeStamp'].dt.hour"
   ]
  },
  {
   "cell_type": "code",
   "execution_count": 32,
   "id": "76032ad3",
   "metadata": {},
   "outputs": [
    {
     "data": {
      "text/plain": [
       "(23567841, 8)"
      ]
     },
     "execution_count": 32,
     "metadata": {},
     "output_type": "execute_result"
    }
   ],
   "source": [
    "df_airqo.shape"
   ]
  },
  {
   "cell_type": "code",
   "execution_count": 38,
   "id": "6efdc174",
   "metadata": {},
   "outputs": [
    {
     "data": {
      "text/plain": [
       "Site                    TimeStampHour\n",
       "Banda, Kampala          13               37.02\n",
       "                        13               37.02\n",
       "                        13               41.70\n",
       "                        13               41.70\n",
       "                        13               42.15\n",
       "                                         ...  \n",
       "Wobulenzi west, Luwero  13               81.33\n",
       "                        13               57.38\n",
       "                        13               43.15\n",
       "                        13               46.45\n",
       "                        13               42.53\n",
       "Name: pm2_5, Length: 23567841, dtype: float64"
      ]
     },
     "execution_count": 38,
     "metadata": {},
     "output_type": "execute_result"
    }
   ],
   "source": [
    "df_airqo.set_index(['Site', 'TimeStampHour'])['pm2_5'].fillna(df_site_hourly_avg['pm2_5'].to_dict())"
   ]
  },
  {
   "cell_type": "markdown",
   "id": "f2b30d08",
   "metadata": {},
   "source": [
    "Null pm2_5 values are filled with average hourly "
   ]
  },
  {
   "cell_type": "markdown",
   "id": "fd1c3509",
   "metadata": {},
   "source": [
    "To do\n",
    "1. Fill missing for pm10, sensor 2 pm2_5 and pm10 \n",
    "2. Fix my github add readme about project \n",
    "3. Ignore data file \n",
    "4. "
   ]
  }
 ],
 "metadata": {
  "kernelspec": {
   "display_name": "Python 3 (ipykernel)",
   "language": "python",
   "name": "python3"
  },
  "language_info": {
   "codemirror_mode": {
    "name": "ipython",
    "version": 3
   },
   "file_extension": ".py",
   "mimetype": "text/x-python",
   "name": "python",
   "nbconvert_exporter": "python",
   "pygments_lexer": "ipython3",
   "version": "3.9.7"
  }
 },
 "nbformat": 4,
 "nbformat_minor": 5
}
